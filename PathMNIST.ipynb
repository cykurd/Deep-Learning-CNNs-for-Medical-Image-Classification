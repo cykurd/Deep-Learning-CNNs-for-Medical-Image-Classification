{
 "cells": [
  {
   "cell_type": "code",
   "execution_count": 1,
   "id": "53cac425-f9ff-4f7e-b622-cb3fca68f8c9",
   "metadata": {},
   "outputs": [
    {
     "name": "stdout",
     "output_type": "stream",
     "text": [
      "Using downloaded and verified file: /Users/cyruskurd/.medmnist/pathmnist.npz\n",
      "Using downloaded and verified file: /Users/cyruskurd/.medmnist/pathmnist.npz\n",
      "Using downloaded and verified file: /Users/cyruskurd/.medmnist/pathmnist.npz\n"
     ]
    },
    {
     "name": "stderr",
     "output_type": "stream",
     "text": [
      "100%|█████████████████████████████████████████| 704/704 [00:20<00:00, 34.38it/s]\n"
     ]
    },
    {
     "name": "stdout",
     "output_type": "stream",
     "text": [
      "Epoch [1/5], Training Loss: 0.6401\n"
     ]
    },
    {
     "name": "stderr",
     "output_type": "stream",
     "text": [
      "100%|█████████████████████████████████████████| 704/704 [00:20<00:00, 33.72it/s]\n"
     ]
    },
    {
     "name": "stdout",
     "output_type": "stream",
     "text": [
      "Epoch [2/5], Training Loss: 0.3886\n"
     ]
    },
    {
     "name": "stderr",
     "output_type": "stream",
     "text": [
      "100%|█████████████████████████████████████████| 704/704 [00:21<00:00, 32.38it/s]\n"
     ]
    },
    {
     "name": "stdout",
     "output_type": "stream",
     "text": [
      "Epoch [3/5], Training Loss: 0.3202\n"
     ]
    },
    {
     "name": "stderr",
     "output_type": "stream",
     "text": [
      "100%|█████████████████████████████████████████| 704/704 [00:21<00:00, 32.88it/s]\n"
     ]
    },
    {
     "name": "stdout",
     "output_type": "stream",
     "text": [
      "Epoch [4/5], Training Loss: 0.2768\n"
     ]
    },
    {
     "name": "stderr",
     "output_type": "stream",
     "text": [
      "100%|█████████████████████████████████████████| 704/704 [00:22<00:00, 31.93it/s]\n"
     ]
    },
    {
     "name": "stdout",
     "output_type": "stream",
     "text": [
      "Epoch [5/5], Training Loss: 0.2513\n"
     ]
    },
    {
     "name": "stderr",
     "output_type": "stream",
     "text": [
      "100%|███████████████████████████████████████████| 57/57 [00:00<00:00, 73.02it/s]"
     ]
    },
    {
     "name": "stdout",
     "output_type": "stream",
     "text": [
      "Test Accuracy: Metrics(AUC=0.9370670462879319, ACC=0.799025069637883)\n"
     ]
    },
    {
     "name": "stderr",
     "output_type": "stream",
     "text": [
      "\n"
     ]
    }
   ],
   "source": [
    "# import libraries\n",
    "import torch\n",
    "import torchvision\n",
    "import torch.nn as nn\n",
    "import torch.optim as optim\n",
    "from torchvision import transforms\n",
    "import medmnist\n",
    "from medmnist import INFO, Evaluator\n",
    "import numpy as np\n",
    "from tqdm import tqdm\n",
    "\n",
    "# specify the data to grab -- 'pathmnist' for pathology images\n",
    "data_flag = 'pathmnist'\n",
    "download = True\n",
    "\n",
    "# get dataset information\n",
    "info = INFO[data_flag]\n",
    "task = info['task']\n",
    "n_channels = info['n_channels']\n",
    "n_classes = len(info['label'])\n",
    "\n",
    "# transform each image to PIL or NumPy arrays & scale them\n",
    "data_transform = transforms.Compose([\n",
    "    transforms.ToTensor(),\n",
    "    transforms.Normalize(mean=[.5], std=[.5])\n",
    "])\n",
    "\n",
    "# load the datasets\n",
    "DataClass = getattr(medmnist, info['python_class'])\n",
    "\n",
    "train_dataset = DataClass(split='train', transform=data_transform, download=download)\n",
    "val_dataset = DataClass(split='val', transform=data_transform, download=download)\n",
    "test_dataset = DataClass(split='test', transform=data_transform, download=download)\n",
    "\n",
    "# create data loaders\n",
    "batch_size = 128\n",
    "\n",
    "train_loader = torch.utils.data.DataLoader(dataset=train_dataset,\n",
    "                                           batch_size=batch_size,\n",
    "                                           shuffle=True)\n",
    "\n",
    "val_loader = torch.utils.data.DataLoader(dataset=val_dataset,\n",
    "                                         batch_size=batch_size,\n",
    "                                         shuffle=False)\n",
    "\n",
    "test_loader = torch.utils.data.DataLoader(dataset=test_dataset,\n",
    "                                          batch_size=batch_size,\n",
    "                                          shuffle=False)\n",
    "\n",
    "# define the CNN\n",
    "class CNN(nn.Module):\n",
    "    def __init__(self, in_channels, num_classes):\n",
    "        super(CNN, self).__init__()\n",
    "        self.features = nn.Sequential(\n",
    "            nn.Conv2d(in_channels, 16, kernel_size=3, padding=1),\n",
    "            nn.ReLU(inplace=True),\n",
    "            nn.BatchNorm2d(16),\n",
    "            nn.MaxPool2d(2),\n",
    "\n",
    "            nn.Conv2d(16, 32, kernel_size=3, padding=1),\n",
    "            nn.ReLU(inplace=True),\n",
    "            nn.BatchNorm2d(32),\n",
    "            nn.MaxPool2d(2),\n",
    "\n",
    "            nn.Conv2d(32, 64, kernel_size=3, padding=1),\n",
    "            nn.ReLU(inplace=True),\n",
    "            nn.BatchNorm2d(64),\n",
    "            nn.MaxPool2d(2),\n",
    "        )\n",
    "        self.classifier = nn.Sequential(\n",
    "            nn.Linear(64 * 3 * 3, 128),\n",
    "            nn.ReLU(inplace=True),\n",
    "            nn.Dropout(0.5),\n",
    "            nn.Linear(128, num_classes)\n",
    "        )\n",
    "\n",
    "    def forward(self, x):\n",
    "        x = self.features(x)\n",
    "        x = x.view(x.size(0), -1)\n",
    "        x = self.classifier(x)\n",
    "        return x\n",
    "\n",
    "# set device (to GPU if available)\n",
    "device = torch.device('cuda' if torch.cuda.is_available() else 'cpu')\n",
    "\n",
    "# initialize the model, loss function, and optimizer\n",
    "model = CNN(in_channels=n_channels, num_classes=n_classes).to(device)\n",
    "\n",
    "if task == 'multi-label, binary-class':\n",
    "    criterion = nn.BCEWithLogitsLoss()\n",
    "else:\n",
    "    criterion = nn.CrossEntropyLoss()\n",
    "\n",
    "optimizer = optim.Adam(model.parameters(), lr=0.001)\n",
    "\n",
    "# training loop\n",
    "num_epochs = 5\n",
    "\n",
    "for epoch in range(num_epochs):\n",
    "    model.train()\n",
    "    train_loss = 0.0\n",
    "    for inputs, targets in tqdm(train_loader):\n",
    "        inputs = inputs.to(device)\n",
    "        targets = targets.to(device)\n",
    "        if task == 'multi-label, binary-class':\n",
    "            targets = targets.float()\n",
    "        else:\n",
    "            targets = targets.squeeze().long()\n",
    "        optimizer.zero_grad()\n",
    "        outputs = model(inputs)\n",
    "        loss = criterion(outputs, targets)\n",
    "        loss.backward()\n",
    "        optimizer.step()\n",
    "        train_loss += loss.item() * inputs.size(0)\n",
    "    train_loss = train_loss / len(train_loader.dataset)\n",
    "    print('Epoch [{}/{}], Training Loss: {:.4f}'.format(epoch+1, num_epochs, train_loss))\n",
    "\n",
    "# evaluation on the test set\n",
    "model.eval()\n",
    "y_true = []\n",
    "y_score = []\n",
    "\n",
    "with torch.no_grad():\n",
    "    for inputs, targets in tqdm(test_loader):\n",
    "        inputs = inputs.to(device)\n",
    "        outputs = model(inputs)\n",
    "        outputs = outputs.cpu()\n",
    "        y_score.append(outputs)\n",
    "        y_true.append(targets)\n",
    "\n",
    "y_score = torch.cat(y_score)\n",
    "y_true = torch.cat(y_true)\n",
    "\n",
    "# apply softmax for multi-class classification\n",
    "if task == 'multi-label, binary-class':\n",
    "    y_pred = y_score.numpy()  # retain logits for multi-label binary task\n",
    "    y_true = y_true.numpy()\n",
    "    y_pred = 1 / (1 + np.exp(-y_pred))  # sigmoid activation\n",
    "else:\n",
    "    y_pred = torch.softmax(y_score, dim=1).numpy()  # softmax for multi-class to get probabilities\n",
    "    y_true = y_true.squeeze().numpy()\n",
    "\n",
    "# initialize the evaluator and evaluate\n",
    "evaluator = Evaluator(data_flag, 'test')\n",
    "if task == 'multi-label, binary-class':\n",
    "    auc = evaluator.evaluate(y_pred)\n",
    "    print('Test AUC:', auc)\n",
    "else:\n",
    "    acc = evaluator.evaluate(y_pred)\n",
    "    print('Test Accuracy:', acc)"
   ]
  },
  {
   "cell_type": "code",
   "execution_count": 2,
   "id": "fece4c64-6861-448e-844d-6b39f9c3b5d0",
   "metadata": {},
   "outputs": [
    {
     "data": {
      "image/png": "[encoded data removed]",
      "text/plain": [
       "<Figure size 1500x300 with 5 Axes>"
      ]
     },
     "metadata": {},
     "output_type": "display_data"
    }
   ],
   "source": [
    "import matplotlib.pyplot as plt\n",
    "\n",
    "# display a few images with their predictions and true labels\n",
    "def display_predictions_with_images(model, data_loader, num_images=5):\n",
    "\n",
    "    class_labels = [\n",
    "    \"Adipose Tissue\", \"Background\", \"Debris\", \"Lymphocytes\",\n",
    "    \"Mucus\", \"Normal Colon Mucosa\", \"Cancer-Associated Stroma\",\n",
    "    \"Colorectal Adenocarcinoma Epithelium\", \"Smooth Muscle\"\n",
    "    ]\n",
    "    model.eval()\n",
    "    images_shown = 0\n",
    "    fig, axes = plt.subplots(1, num_images, figsize=(num_images * 3, 3), dpi=100)  # Adjusted figure size and DPI\n",
    "    \n",
    "    with torch.no_grad():\n",
    "        for inputs, targets in data_loader:\n",
    "            inputs = inputs.to(device)\n",
    "            outputs = model(inputs)\n",
    "            _, predicted = torch.max(outputs, 1)  # get the predicted class index\n",
    "\n",
    "            inputs = inputs.cpu()  # move images back to CPU for display\n",
    "            predicted = predicted.cpu()\n",
    "            targets = targets.squeeze().cpu()\n",
    "\n",
    "            for i in range(inputs.size(0)):\n",
    "                if images_shown >= num_images:\n",
    "                    break\n",
    "                ax = axes[images_shown]\n",
    "                # select the first channel for grayscale display with improved visibility\n",
    "                ax.imshow(inputs[i][0], cmap='gray', interpolation='none')  # Set interpolation to 'none'\n",
    "                ax.axis('off')\n",
    "                ax.set_aspect('equal')  # Ensure aspect ratio is equal\n",
    "                # display readable class names for predicted and true labels\n",
    "                pred_label = class_labels[predicted[i].item()]\n",
    "                true_label = class_labels[targets[i].item()]\n",
    "                ax.set_title(f\"Predicted: {pred_label}\\nTrue: {true_label}\", fontsize=10)\n",
    "                images_shown += 1\n",
    "            if images_shown >= num_images:\n",
    "                break\n",
    "\n",
    "    plt.tight_layout()\n",
    "    plt.show()\n",
    "\n",
    "# display a few images with their predictions and true labels\n",
    "display_predictions_with_images(model, test_loader, num_images=5)"
   ]
  },
  {
   "cell_type": "code",
   "execution_count": null,
   "id": "20b9c627-3b24-4b21-bd2e-aefffa9790ac",
   "metadata": {},
   "outputs": [],
   "source": []
  }
 ],
 "metadata": {
  "kernelspec": {
   "display_name": "Python 3 (ipykernel)",
   "language": "python",
   "name": "python3"
  },
  "language_info": {
   "codemirror_mode": {
    "name": "ipython",
    "version": 3
   },
   "file_extension": ".py",
   "mimetype": "text/x-python",
   "name": "python",
   "nbconvert_exporter": "python",
   "pygments_lexer": "ipython3",
   "version": "3.12.4"
  }
 },
 "nbformat": 4,
 "nbformat_minor": 5
}
